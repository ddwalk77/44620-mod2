{
 "cells": [
  {
   "cell_type": "markdown",
   "id": "c375bba3-59d2-4a89-8ae3-cfcff6637eaf",
   "metadata": {},
   "source": [
    "# DeeDee Walker"
   ]
  },
  {
   "cell_type": "code",
   "execution_count": 1,
   "id": "ce5ff140-8efc-4737-9fc2-bd046167f58d",
   "metadata": {},
   "outputs": [
    {
     "name": "stdout",
     "output_type": "stream",
     "text": [
      "*      *\n",
      "**    **\n",
      "***  ***\n",
      "********\n"
     ]
    }
   ],
   "source": [
    "rows = 4\n",
    "spacecounter = 6\n",
    "printcounter = 1\n",
    "while rows != 0:\n",
    "    print(\"*\" * printcounter, end=\"\")\n",
    "    print(\" \" * spacecounter, end=\"\")\n",
    "    print(\"*\" * printcounter, end=\"\\n\")\n",
    "    spacecounter = spacecounter - 2\n",
    "    printcounter = printcounter + 1\n",
    "    rows = rows - 1"
   ]
  },
  {
   "cell_type": "code",
   "execution_count": null,
   "id": "08788185-5041-4bcc-86f3-cee79c09485f",
   "metadata": {},
   "outputs": [],
   "source": []
  }
 ],
 "metadata": {
  "kernelspec": {
   "display_name": "Python 3 (ipykernel)",
   "language": "python",
   "name": "python3"
  },
  "language_info": {
   "codemirror_mode": {
    "name": "ipython",
    "version": 3
   },
   "file_extension": ".py",
   "mimetype": "text/x-python",
   "name": "python",
   "nbconvert_exporter": "python",
   "pygments_lexer": "ipython3",
   "version": "3.9.12"
  }
 },
 "nbformat": 4,
 "nbformat_minor": 5
}
